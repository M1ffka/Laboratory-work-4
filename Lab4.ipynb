{
 "cells": [
  {
   "cell_type": "markdown",
   "id": "551e760a-1833-4d9b-ba42-f4cd0bfeb2ce",
   "metadata": {},
   "source": [
    "# Загружаем пакеты"
   ]
  },
  {
   "cell_type": "code",
   "execution_count": 9,
   "id": "b615f2cb-131a-4059-a24a-7855bda783db",
   "metadata": {},
   "outputs": [],
   "source": [
    "# загрузка пакетов: инструменты --------------------------------------------\n",
    "# работа с массивами\n",
    "import numpy as np\n",
    "# фреймы данных\n",
    "import pandas as pd\n",
    "# графики\n",
    "import matplotlib as mpl\n",
    "# стили и шаблоны графиков на основе matplotlib\n",
    "import seaborn as sns\n",
    "# загрузка файлов по URL\n",
    "import urllib\n",
    "# проверка существования файла на диске\n",
    "from pathlib import Path\n",
    "# для форматирования результатов с помощью Markdown\n",
    "from IPython.display import Markdown, display\n",
    "# перекодировка категориальных переменных\n",
    "from sklearn.preprocessing import OrdinalEncoder, OneHotEncoder\n",
    "# хи-квадрат тест на независимость по таблице сопряжённости\n",
    "from scipy.stats import chi2_contingency\n",
    "# для таймера\n",
    "import time\n",
    "# загрузка пакетов: данные -------------------------------------------------\n",
    "from sklearn import datasets\n",
    "# загрузка пакетов: модели -------------------------------------------------\n",
    "# дерево классификации\n",
    "from sklearn.tree import DecisionTreeClassifier, export_text, plot_tree\n",
    "# перекрёстная проверка и метод проверочной выборки\n",
    "from sklearn.model_selection import cross_val_score, train_test_split\n",
    "# для перекрёстной проверки и сеточного поиска\n",
    "from sklearn.model_selection import KFold, GridSearchCV\n",
    "# бэггинг\n",
    "from sklearn.ensemble import BaggingClassifier\n",
    "# случайный лес\n",
    "from sklearn.ensemble import RandomForestClassifier\n",
    "# бустинг\n",
    "from sklearn.ensemble import GradientBoostingClassifier\n",
    "# сводка по точности классификации\n",
    "from sklearn.metrics import classification_report\n",
    "# константы\n",
    "# ядро для генератора случайных чисел\n",
    "my_seed = 9212\n",
    "# создаём псевдоним для короткого обращения к графикам\n",
    "plt = mpl.pyplot\n",
    "# настройка стиля и отображения графиков\n",
    "# примеры стилей и шаблонов графиков:\n",
    "# http://tonysyu.github.io/raw_content/matplotlib-style-gallery/gallery.html\n",
    "sns.set_palette(\"Set2\")\n",
    "# раскомментируйте следующую строку, чтобы посмотреть палитру\n",
    "# sns.color_palette(\"Set2\")\n",
    "# функция форматирования результатов с использованием Markdown\n",
    "def printmd(string):\n",
    " display(Markdown(string))\n",
    "\n",
    "# функции для попарной конкатенации элементов двух списков\n",
    "concat_func_md = lambda x, y: '`' + str(x) + \"`:&ensp;&ensp;&ensp;&ensp;\" + str(y)\n",
    "concat_func = lambda x, y: str(x) + ' ' * 4 + str(y)\n",
    "# функция, которая строит график важности признаков в модели случайного леса\n",
    "# источник: https://www.analyseup.com/learn-python-for-data-science/python-rand\n",
    "def plot_feature_importance(importance, names, model_type) :\n",
    "    #Create arrays from feature importance and feature names\n",
    "    feature_importance = np.array(importance)\n",
    "    feature_names = np.array(names)\n",
    "    #Create a DataFrame using a Dictionary\n",
    "    data={'feature_names':feature_names,'feature_importance':feature_importance}\n",
    "    fi_df = pd.DataFrame(data)\n",
    "    #Sort the DataFrame in order decreasing feature importance\n",
    "    fi_df.sort_values(by=['feature_importance'], ascending=False,\n",
    "                      inplace=True)\n",
    "    #Define size of bar plot\n",
    "    plt.figure(figsize=(10,8))\n",
    "    #Plot Searborn bar chart\n",
    "    sns.barplot(x=fi_df['feature_importance'], y=fi_df['feature_names'])\n",
    "    #Add chart labels\n",
    "    plt.title('Важность признаков в модели: ' + model_type)\n",
    "    plt.xlabel('Важность признака')\n",
    "    plt.ylabel('')"
   ]
  },
  {
   "cell_type": "markdown",
   "id": "2b4adbb0-7d21-4409-9d3b-ce91de2492aa",
   "metadata": {},
   "source": [
    "# Загружаем данные"
   ]
  },
  {
   "cell_type": "code",
   "execution_count": 14,
   "id": "f316e892-83b5-49d7-bbbe-8838ed20b271",
   "metadata": {},
   "outputs": [
    {
     "name": "stdout",
     "output_type": "stream",
     "text": [
      "Число строк и столбцов в наборе данных:\n",
      " (1599, 10)\n"
     ]
    }
   ],
   "source": [
    "# загружаем таблицу\n",
    "url = \"https://raw.githubusercontent.com/aksyuk/MTML/main/Labs/data/winequality-red_for_lab.csv\"\n",
    "DF = pd.read_csv(url)\n",
    "# оставим в таблице только указанные переменные\n",
    "DF_raw = DF.filter(items=['fixed_acidity', 'volatile_acidity', 'residual_sugar', 'chlorides', 'free_sulfur_dioxide', 'total_sulfur_dioxide', 'pH', 'sulphates', 'alcohol', 'Y'])\n",
    "# выясняем размерность фрейма\n",
    "print('Число строк и столбцов в наборе данных:\\n', DF_raw.shape)"
   ]
  },
  {
   "cell_type": "code",
   "execution_count": 15,
   "id": "ef46c63d-1864-4ad7-a64c-5f14755211bf",
   "metadata": {},
   "outputs": [
    {
     "data": {
      "text/plain": [
       "fixed_acidity           float64\n",
       "volatile_acidity        float64\n",
       "residual_sugar          float64\n",
       "chlorides               float64\n",
       "free_sulfur_dioxide     float64\n",
       "total_sulfur_dioxide    float64\n",
       "pH                      float64\n",
       "sulphates               float64\n",
       "alcohol                 float64\n",
       "Y                         int64\n",
       "dtype: object"
      ]
     },
     "execution_count": 15,
     "metadata": {},
     "output_type": "execute_result"
    }
   ],
   "source": [
    "# типы столбцов\n",
    "DF_raw.dtypes"
   ]
  },
  {
   "cell_type": "markdown",
   "id": "4c3d5f87-46ae-4e6f-842f-5b868fb3efc5",
   "metadata": {},
   "source": [
    "Отложим 15% наблюдений для прогноза"
   ]
  },
  {
   "cell_type": "code",
   "execution_count": 17,
   "id": "16700f60-983a-4551-b5d9-49b80bf4b290",
   "metadata": {},
   "outputs": [],
   "source": [
    "# наблюдения для моделирования\n",
    "DF = DF_raw.sample(frac=0.85, random_state=my_seed)\n",
    "# отложенные наблюдения\n",
    "DF_predict = DF_raw.drop(DF.index)"
   ]
  },
  {
   "cell_type": "markdown",
   "id": "d19fdca3-f181-4a9b-b827-e628ed622b1e",
   "metadata": {},
   "source": [
    "# Предварительный анализ данных"
   ]
  },
  {
   "cell_type": "markdown",
   "id": "9d4cd721-d2f4-4bf7-a6de-803a1d36b2aa",
   "metadata": {},
   "source": [
    "## Описательные статистики"
   ]
  },
  {
   "cell_type": "code",
   "execution_count": 19,
   "id": "fbfb2f31-198a-4d22-a474-d61afd2ea6d7",
   "metadata": {},
   "outputs": [
    {
     "name": "stdout",
     "output_type": "stream",
     "text": [
      "\n",
      " fixed_acidity \n",
      " 7.2    0.043\n",
      "7.1    0.036\n",
      "7.8    0.034\n",
      "7.5    0.032\n",
      "8.2    0.029\n",
      "7.6    0.029\n",
      "7.0    0.029\n",
      "6.8    0.029\n",
      "7.9    0.029\n",
      "7.7    0.028\n",
      "7.4    0.027\n",
      "8.3    0.026\n",
      "7.3    0.026\n",
      "8.0    0.025\n",
      "8.8    0.024\n",
      "6.6    0.022\n",
      "8.9    0.022\n",
      "6.9    0.021\n",
      "9.0    0.018\n",
      "6.7    0.018\n",
      "8.1    0.018\n",
      "9.9    0.017\n",
      "8.4    0.017\n",
      "8.6    0.016\n",
      "8.7    0.016\n",
      "9.1    0.015\n",
      "6.4    0.015\n",
      "9.3    0.015\n",
      "10.0    0.014\n",
      "6.5    0.013\n",
      "6.2    0.012\n",
      "6.1    0.012\n",
      "10.4    0.012\n",
      "10.2    0.011\n",
      "8.5    0.011\n",
      "9.6    0.011\n",
      "9.4    0.01\n",
      "9.2    0.01\n",
      "9.8    0.01\n",
      "10.6    0.01\n",
      "6.3    0.01\n",
      "11.5    0.009\n",
      "6.0    0.008\n",
      "9.5    0.008\n",
      "11.9    0.008\n",
      "10.3    0.007\n",
      "5.6    0.007\n",
      "11.6    0.007\n",
      "10.5    0.007\n",
      "10.8    0.006\n",
      "5.9    0.006\n",
      "9.7    0.006\n",
      "10.7    0.005\n",
      "12.0    0.005\n",
      "10.9    0.004\n",
      "5.0    0.004\n",
      "10.1    0.004\n",
      "11.1    0.004\n",
      "11.4    0.004\n",
      "12.3    0.004\n",
      "11.3    0.004\n",
      "5.2    0.004\n",
      "12.5    0.004\n",
      "11.2    0.003\n",
      "5.4    0.003\n",
      "12.7    0.003\n",
      "12.2    0.003\n",
      "12.4    0.003\n",
      "12.6    0.003\n",
      "12.8    0.003\n",
      "13.2    0.002\n",
      "13.0    0.002\n",
      "5.1    0.002\n",
      "11.8    0.002\n",
      "5.3    0.002\n",
      "5.8    0.001\n",
      "13.3    0.001\n",
      "15.5    0.001\n",
      "13.7    0.001\n",
      "15.6    0.001\n",
      "15.0    0.001\n",
      "11.0    0.001\n",
      "12.9    0.001\n",
      "11.7    0.001\n",
      "15.9    0.001\n",
      "5.7    0.001\n",
      "14.3    0.001\n",
      "5.5    0.001\n",
      "12.1    0.001\n",
      "4.6    0.001\n",
      "13.8    0.001\n",
      "4.7    0.001\n",
      "13.4    0.001\n",
      "14.0    0.001\n",
      "13.5    0.001\n",
      "\n",
      " volatile_acidity \n",
      " 0.5    0.029\n",
      "0.6    0.029\n",
      "0.43    0.028\n",
      "0.4    0.025\n",
      "0.38    0.024\n",
      "0.36    0.023\n",
      "0.59    0.023\n",
      "0.56    0.022\n",
      "0.52    0.022\n",
      "0.58    0.021\n",
      "0.39    0.021\n",
      "0.49    0.021\n",
      "0.41    0.021\n",
      "0.31    0.02\n",
      "0.54    0.02\n",
      "0.57    0.019\n",
      "0.46    0.019\n",
      "0.42    0.018\n",
      "0.34    0.018\n",
      "0.53    0.018\n",
      "0.63    0.018\n",
      "0.48    0.017\n",
      "0.64    0.017\n",
      "0.51    0.016\n",
      "0.62    0.015\n",
      "0.35    0.015\n",
      "0.61    0.015\n",
      "0.32    0.015\n",
      "0.44    0.015\n",
      "0.67    0.015\n",
      "0.66    0.014\n",
      "0.37    0.014\n",
      "0.45    0.014\n",
      "0.69    0.013\n",
      "0.28    0.013\n",
      "0.47    0.013\n",
      "0.55    0.012\n",
      "0.33    0.012\n",
      "0.65    0.01\n",
      "0.3    0.01\n",
      "0.29    0.01\n",
      "0.26    0.009\n",
      "0.715    0.008\n",
      "0.27    0.008\n",
      "0.685    0.007\n",
      "0.78    0.007\n",
      "0.74    0.007\n",
      "0.24    0.007\n",
      "0.68    0.007\n",
      "0.7    0.007\n",
      "0.645    0.007\n",
      "0.18    0.006\n",
      "0.785    0.006\n",
      "0.84    0.006\n",
      "0.735    0.006\n",
      "0.725    0.006\n",
      "0.635    0.006\n",
      "0.695    0.005\n",
      "0.615    0.004\n",
      "0.75    0.004\n",
      "0.655    0.004\n",
      "0.745    0.004\n",
      "0.765    0.004\n",
      "0.705    0.004\n",
      "0.82    0.004\n",
      "0.25    0.004\n",
      "0.77    0.004\n",
      "0.21    0.004\n",
      "0.73    0.004\n",
      "0.22    0.004\n",
      "0.76    0.004\n",
      "0.885    0.003\n",
      "0.87    0.003\n",
      "0.775    0.003\n",
      "0.545    0.003\n",
      "0.72    0.003\n",
      "0.23    0.003\n",
      "0.83    0.003\n",
      "0.415    0.002\n",
      "1.04    0.002\n",
      "0.8    0.002\n",
      "0.815    0.002\n",
      "1.0    0.002\n",
      "0.665    0.002\n",
      "0.965    0.002\n",
      "0.605    0.002\n",
      "0.88    0.002\n",
      "0.625    0.002\n",
      "0.915    0.002\n",
      "0.12    0.002\n",
      "0.675    0.002\n",
      "0.575    0.002\n",
      "0.755    0.002\n",
      "1.02    0.002\n",
      "0.91    0.001\n",
      "0.71    0.001\n",
      "0.395    0.001\n",
      "0.98    0.001\n",
      "0.475    0.001\n",
      "0.16    0.001\n",
      "0.2    0.001\n",
      "0.19    0.001\n",
      "0.875    0.001\n",
      "0.79    0.001\n",
      "0.9    0.001\n",
      "0.835    0.001\n",
      "0.85    0.001\n",
      "0.315    0.001\n",
      "0.365    0.001\n",
      "1.005    0.001\n",
      "1.13    0.001\n",
      "0.935    0.001\n",
      "0.89    0.001\n",
      "1.18    0.001\n",
      "1.115    0.001\n",
      "0.95    0.001\n",
      "0.96    0.001\n",
      "1.025    0.001\n",
      "0.865    0.001\n",
      "1.07    0.001\n",
      "0.805    0.001\n",
      "0.895    0.001\n",
      "1.33    0.001\n",
      "1.01    0.001\n",
      "1.58    0.001\n",
      "0.845    0.001\n",
      "0.92    0.001\n",
      "0.955    0.001\n",
      "0.295    0.001\n",
      "1.035    0.001\n",
      "0.595    0.001\n",
      "1.185    0.001\n",
      "0.855    0.001\n",
      "0.565    0.001\n",
      "1.24    0.001\n",
      "0.585    0.001\n",
      "0.975    0.001\n",
      "0.86    0.001\n",
      "\n",
      " residual_sugar \n",
      " 2.0    0.094\n",
      "2.2    0.081\n",
      "1.8    0.08\n",
      "2.1    0.079\n",
      "1.9    0.07\n",
      "2.3    0.065\n",
      "2.4    0.054\n",
      "2.5    0.054\n",
      "1.7    0.049\n",
      "2.6    0.048\n",
      "1.6    0.039\n",
      "2.8    0.032\n",
      "2.7    0.026\n",
      "1.4    0.024\n",
      "1.5    0.018\n",
      "3.0    0.016\n",
      "2.9    0.015\n",
      "3.2    0.01\n",
      "3.4    0.008\n",
      "3.3    0.008\n",
      "4.0    0.007\n",
      "4.3    0.006\n",
      "3.8    0.006\n",
      "3.6    0.005\n",
      "5.5    0.005\n",
      "3.9    0.004\n",
      "1.2    0.004\n",
      "4.1    0.004\n",
      "4.2    0.004\n",
      "1.3    0.004\n",
      "5.6    0.004\n",
      "3.1    0.004\n",
      "4.6    0.004\n",
      "5.1    0.004\n",
      "5.8    0.003\n",
      "6.0    0.002\n",
      "3.7    0.002\n",
      "6.4    0.002\n",
      "7.9    0.002\n",
      "6.1    0.002\n",
      "4.8    0.002\n",
      "4.4    0.002\n",
      "5.2    0.002\n",
      "8.3    0.002\n",
      "6.2    0.002\n",
      "1.65    0.001\n",
      "1.75    0.001\n",
      "3.5    0.001\n",
      "6.3    0.001\n",
      "13.8    0.001\n",
      "4.5    0.001\n",
      "8.1    0.001\n",
      "2.15    0.001\n",
      "6.55    0.001\n",
      "6.7    0.001\n",
      "7.8    0.001\n",
      "5.9    0.001\n",
      "15.4    0.001\n",
      "2.05    0.001\n",
      "8.8    0.001\n",
      "0.9    0.001\n",
      "8.9    0.001\n",
      "2.95    0.001\n",
      "7.3    0.001\n",
      "2.55    0.001\n",
      "4.7    0.001\n",
      "2.35    0.001\n",
      "3.75    0.001\n",
      "6.6    0.001\n",
      "13.4    0.001\n",
      "5.4    0.001\n",
      "5.15    0.001\n",
      "10.7    0.001\n",
      "7.5    0.001\n",
      "13.9    0.001\n",
      "5.0    0.001\n",
      "12.9    0.001\n",
      "5.7    0.001\n",
      "2.85    0.001\n",
      "11.0    0.001\n",
      "4.25    0.001\n",
      "8.6    0.001\n",
      "4.65    0.001\n",
      "15.5    0.001\n",
      "3.45    0.001\n",
      "2.25    0.001\n",
      "\n",
      " chlorides \n",
      " 0.08    0.038\n",
      "0.074    0.035\n",
      "0.078    0.032\n",
      "0.076    0.032\n",
      "0.082    0.031\n",
      "0.077    0.031\n",
      "0.084    0.03\n",
      "0.071    0.029\n",
      "0.075    0.028\n",
      "0.079    0.028\n",
      "0.081    0.024\n",
      "0.083    0.023\n",
      "0.07    0.022\n",
      "0.068    0.021\n",
      "0.073    0.021\n",
      "0.088    0.02\n",
      "0.067    0.018\n",
      "0.066    0.018\n",
      "0.086    0.018\n",
      "0.087    0.017\n",
      "0.062    0.016\n",
      "0.089    0.016\n",
      "0.072    0.016\n",
      "0.093    0.015\n",
      "0.085    0.015\n",
      "0.069    0.014\n",
      "0.063    0.014\n",
      "0.065    0.013\n",
      "0.092    0.013\n",
      "0.09    0.013\n",
      "0.095    0.013\n",
      "0.097    0.013\n",
      "0.094    0.012\n",
      "0.096    0.011\n",
      "0.104    0.011\n",
      "0.059    0.011\n",
      "0.064    0.01\n",
      "0.091    0.01\n",
      "0.06    0.01\n",
      "0.1    0.01\n",
      "0.058    0.009\n",
      "0.05    0.008\n",
      "0.098    0.007\n",
      "0.114    0.007\n",
      "0.107    0.007\n",
      "0.102    0.007\n",
      "0.054    0.007\n",
      "0.057    0.007\n",
      "0.052    0.007\n",
      "0.118    0.006\n",
      "0.061    0.006\n",
      "0.056    0.006\n",
      "0.099    0.005\n",
      "0.049    0.005\n",
      "0.11    0.005\n",
      "0.111    0.004\n",
      "0.106    0.004\n",
      "0.122    0.004\n",
      "0.055    0.004\n",
      "0.103    0.004\n",
      "0.048    0.004\n",
      "0.101    0.004\n",
      "0.044    0.003\n",
      "0.045    0.003\n",
      "0.039    0.003\n",
      "0.046    0.003\n",
      "0.053    0.003\n",
      "0.123    0.003\n",
      "0.112    0.003\n",
      "0.105    0.003\n",
      "0.117    0.003\n",
      "0.041    0.002\n",
      "0.042    0.002\n",
      "0.047    0.002\n",
      "0.214    0.002\n",
      "0.109    0.002\n",
      "0.12    0.002\n",
      "0.119    0.002\n",
      "0.157    0.002\n",
      "0.132    0.002\n",
      "0.415    0.002\n",
      "0.205    0.001\n",
      "0.124    0.001\n",
      "0.115    0.001\n",
      "0.414    0.001\n",
      "0.171    0.001\n",
      "0.178    0.001\n",
      "0.166    0.001\n",
      "0.038    0.001\n",
      "0.422    0.001\n",
      "0.387    0.001\n",
      "0.401    0.001\n",
      "0.136    0.001\n",
      "0.168    0.001\n",
      "0.368    0.001\n",
      "0.241    0.001\n",
      "0.125    0.001\n",
      "0.332    0.001\n",
      "0.146    0.001\n",
      "0.341    0.001\n",
      "0.172    0.001\n",
      "0.128    0.001\n",
      "0.222    0.001\n",
      "0.403    0.001\n",
      "0.126    0.001\n",
      "0.611    0.001\n",
      "0.176    0.001\n",
      "0.337    0.001\n",
      "0.358    0.001\n",
      "0.034    0.001\n",
      "0.148    0.001\n",
      "0.116    0.001\n",
      "0.467    0.001\n",
      "0.36    0.001\n",
      "0.147    0.001\n",
      "0.169    0.001\n",
      "0.143    0.001\n",
      "0.159    0.001\n",
      "0.19    0.001\n",
      "0.194    0.001\n",
      "0.051    0.001\n",
      "0.17    0.001\n",
      "0.043    0.001\n",
      "0.121    0.001\n",
      "0.25    0.001\n",
      "0.165    0.001\n",
      "0.267    0.001\n",
      "0.113    0.001\n",
      "0.236    0.001\n",
      "0.464    0.001\n",
      "0.61    0.001\n",
      "0.235    0.001\n",
      "0.2    0.001\n",
      "0.23    0.001\n",
      "0.137    0.001\n",
      "0.369    0.001\n",
      "0.243    0.001\n",
      "0.226    0.001\n",
      "0.012    0.001\n",
      "0.127    0.001\n",
      "0.161    0.001\n",
      "0.213    0.001\n",
      "0.186    0.001\n",
      "0.152    0.001\n",
      "\n",
      " free_sulfur_dioxide \n",
      " 6.0    0.085\n",
      "5.0    0.065\n",
      "10.0    0.053\n",
      "15.0    0.051\n",
      "12.0    0.049\n",
      "7.0    0.046\n",
      "17.0    0.038\n",
      "9.0    0.038\n",
      "13.0    0.037\n",
      "16.0    0.036\n",
      "8.0    0.036\n",
      "11.0    0.035\n",
      "14.0    0.032\n",
      "3.0    0.03\n",
      "4.0    0.026\n",
      "18.0    0.026\n",
      "21.0    0.025\n",
      "24.0    0.023\n",
      "19.0    0.022\n",
      "26.0    0.021\n",
      "27.0    0.018\n",
      "20.0    0.018\n",
      "23.0    0.017\n",
      "25.0    0.016\n",
      "28.0    0.015\n",
      "29.0    0.014\n",
      "32.0    0.014\n",
      "22.0    0.013\n",
      "31.0    0.012\n",
      "30.0    0.01\n",
      "33.0    0.007\n",
      "34.0    0.007\n",
      "35.0    0.007\n",
      "36.0    0.007\n",
      "38.0    0.005\n",
      "41.0    0.005\n",
      "40.0    0.004\n",
      "39.0    0.004\n",
      "51.0    0.003\n",
      "48.0    0.003\n",
      "1.0    0.002\n",
      "37.0    0.002\n",
      "42.0    0.002\n",
      "52.0    0.002\n",
      "43.0    0.002\n",
      "50.0    0.001\n",
      "68.0    0.001\n",
      "45.0    0.001\n",
      "55.0    0.001\n",
      "37.5    0.001\n",
      "5.5    0.001\n",
      "54.0    0.001\n",
      "40.5    0.001\n",
      "57.0    0.001\n",
      "46.0    0.001\n",
      "66.0    0.001\n",
      "72.0    0.001\n",
      "2.0    0.001\n",
      "47.0    0.001\n",
      "53.0    0.001\n",
      "\n",
      " total_sulfur_dioxide \n",
      " 28.0    0.026\n",
      "24.0    0.025\n",
      "23.0    0.024\n",
      "15.0    0.022\n",
      "20.0    0.022\n",
      "18.0    0.021\n",
      "31.0    0.02\n",
      "12.0    0.02\n",
      "14.0    0.02\n",
      "19.0    0.02\n",
      "10.0    0.019\n",
      "27.0    0.018\n",
      "38.0    0.018\n",
      "13.0    0.018\n",
      "37.0    0.017\n",
      "22.0    0.017\n",
      "42.0    0.017\n",
      "25.0    0.017\n",
      "35.0    0.016\n",
      "17.0    0.016\n",
      "21.0    0.016\n",
      "45.0    0.015\n",
      "47.0    0.015\n",
      "16.0    0.014\n",
      "29.0    0.013\n",
      "54.0    0.013\n",
      "48.0    0.013\n",
      "44.0    0.013\n",
      "26.0    0.013\n",
      "34.0    0.013\n",
      "11.0    0.013\n",
      "49.0    0.012\n",
      "65.0    0.012\n",
      "60.0    0.012\n",
      "32.0    0.011\n",
      "43.0    0.011\n",
      "88.0    0.01\n",
      "33.0    0.01\n",
      "46.0    0.01\n",
      "40.0    0.01\n",
      "8.0    0.01\n",
      "63.0    0.009\n",
      "39.0    0.009\n",
      "52.0    0.008\n",
      "58.0    0.008\n",
      "41.0    0.008\n",
      "53.0    0.008\n",
      "36.0    0.008\n",
      "30.0    0.008\n",
      "55.0    0.008\n",
      "51.0    0.007\n",
      "9.0    0.007\n",
      "56.0    0.007\n",
      "68.0    0.007\n",
      "64.0    0.007\n",
      "72.0    0.007\n",
      "61.0    0.006\n",
      "67.0    0.006\n",
      "69.0    0.006\n",
      "92.0    0.006\n",
      "66.0    0.006\n",
      "89.0    0.006\n",
      "77.0    0.006\n",
      "59.0    0.006\n",
      "62.0    0.005\n",
      "50.0    0.005\n",
      "74.0    0.005\n",
      "86.0    0.005\n",
      "73.0    0.004\n",
      "94.0    0.004\n",
      "70.0    0.004\n",
      "85.0    0.004\n",
      "84.0    0.004\n",
      "98.0    0.004\n",
      "106.0    0.004\n",
      "105.0    0.004\n",
      "102.0    0.004\n",
      "71.0    0.004\n",
      "90.0    0.004\n",
      "91.0    0.004\n",
      "96.0    0.004\n",
      "87.0    0.004\n",
      "81.0    0.004\n",
      "57.0    0.004\n",
      "75.0    0.004\n",
      "82.0    0.003\n",
      "95.0    0.003\n",
      "119.0    0.003\n",
      "79.0    0.003\n",
      "104.0    0.003\n",
      "99.0    0.003\n",
      "110.0    0.003\n",
      "7.0    0.003\n",
      "113.0    0.003\n",
      "101.0    0.003\n",
      "80.0    0.002\n",
      "121.0    0.002\n",
      "145.0    0.002\n",
      "141.0    0.002\n",
      "122.0    0.002\n",
      "133.0    0.002\n",
      "109.0    0.002\n",
      "144.0    0.002\n",
      "6.0    0.002\n",
      "129.0    0.002\n",
      "111.0    0.002\n",
      "147.0    0.002\n",
      "108.0    0.002\n",
      "76.0    0.002\n",
      "112.0    0.001\n",
      "134.0    0.001\n",
      "83.0    0.001\n",
      "125.0    0.001\n",
      "143.0    0.001\n",
      "77.5    0.001\n",
      "128.0    0.001\n",
      "131.0    0.001\n",
      "120.0    0.001\n",
      "100.0    0.001\n",
      "78.0    0.001\n",
      "115.0    0.001\n",
      "148.0    0.001\n",
      "136.0    0.001\n",
      "135.0    0.001\n",
      "124.0    0.001\n",
      "114.0    0.001\n",
      "93.0    0.001\n",
      "116.0    0.001\n",
      "140.0    0.001\n",
      "127.0    0.001\n",
      "130.0    0.001\n",
      "152.0    0.001\n",
      "142.0    0.001\n",
      "153.0    0.001\n",
      "160.0    0.001\n",
      "165.0    0.001\n",
      "126.0    0.001\n",
      "278.0    0.001\n",
      "151.0    0.001\n",
      "149.0    0.001\n",
      "289.0    0.001\n",
      "155.0    0.001\n",
      "103.0    0.001\n",
      "\n",
      " pH \n",
      " 3.36    0.037\n",
      "3.26    0.035\n",
      "3.3    0.035\n",
      "3.39    0.03\n",
      "3.29    0.029\n",
      "3.34    0.029\n",
      "3.38    0.028\n",
      "3.32    0.028\n",
      "3.35    0.026\n",
      "3.27    0.026\n",
      "3.22    0.026\n",
      "3.31    0.025\n",
      "3.28    0.024\n",
      "3.33    0.023\n",
      "3.2    0.023\n",
      "3.15    0.022\n",
      "3.42    0.022\n",
      "3.16    0.022\n",
      "3.21    0.021\n",
      "3.23    0.021\n",
      "3.4    0.02\n",
      "3.41    0.02\n",
      "3.37    0.02\n",
      "3.24    0.019\n",
      "3.18    0.018\n",
      "3.17    0.017\n",
      "3.25    0.016\n",
      "3.44    0.016\n",
      "3.19    0.016\n",
      "3.47    0.015\n",
      "3.46    0.015\n",
      "3.14    0.015\n",
      "3.1    0.013\n",
      "3.12    0.013\n",
      "3.52    0.012\n",
      "3.45    0.011\n",
      "3.48    0.01\n",
      "3.43    0.01\n",
      "3.54    0.01\n",
      "3.51    0.01\n",
      "3.53    0.01\n",
      "3.13    0.009\n",
      "3.5    0.008\n",
      "3.07    0.008\n",
      "3.08    0.007\n",
      "3.09    0.007\n",
      "3.49    0.007\n",
      "3.58    0.007\n",
      "3.11    0.007\n",
      "3.04    0.006\n",
      "3.57    0.006\n",
      "3.59    0.006\n",
      "3.61    0.005\n",
      "3.6    0.005\n",
      "3.56    0.005\n",
      "3.06    0.005\n",
      "3.55    0.005\n",
      "3.03    0.004\n",
      "3.02    0.004\n",
      "2.98    0.004\n",
      "3.0    0.004\n",
      "3.01    0.004\n",
      "3.05    0.003\n",
      "2.94    0.003\n",
      "2.92    0.003\n",
      "3.67    0.002\n",
      "3.72    0.002\n",
      "3.68    0.002\n",
      "3.62    0.002\n",
      "3.69    0.002\n",
      "2.93    0.002\n",
      "3.66    0.002\n",
      "3.63    0.002\n",
      "3.9    0.001\n",
      "4.01    0.001\n",
      "2.88    0.001\n",
      "2.89    0.001\n",
      "3.85    0.001\n",
      "2.74    0.001\n",
      "2.9    0.001\n",
      "3.75    0.001\n",
      "2.95    0.001\n",
      "2.86    0.001\n",
      "3.78    0.001\n",
      "2.99    0.001\n",
      "3.74    0.001\n",
      "3.7    0.001\n",
      "2.87    0.001\n",
      "\n",
      " sulphates \n",
      " 0.6    0.045\n",
      "0.54    0.043\n",
      "0.58    0.043\n",
      "0.56    0.037\n",
      "0.57    0.035\n",
      "0.62    0.035\n",
      "0.55    0.033\n",
      "0.59    0.032\n",
      "0.53    0.031\n",
      "0.61    0.03\n",
      "0.63    0.03\n",
      "0.66    0.029\n",
      "0.65    0.028\n",
      "0.52    0.028\n",
      "0.64    0.026\n",
      "0.67    0.024\n",
      "0.68    0.021\n",
      "0.7    0.021\n",
      "0.48    0.02\n",
      "0.72    0.018\n",
      "0.49    0.018\n",
      "0.51    0.017\n",
      "0.5    0.017\n",
      "0.74    0.016\n",
      "0.73    0.016\n",
      "0.82    0.015\n",
      "0.76    0.015\n",
      "0.69    0.015\n",
      "0.71    0.015\n",
      "0.77    0.015\n",
      "0.78    0.014\n",
      "0.47    0.013\n",
      "0.75    0.012\n",
      "0.8    0.011\n",
      "0.79    0.011\n",
      "0.83    0.01\n",
      "0.46    0.01\n",
      "0.81    0.01\n",
      "0.44    0.009\n",
      "0.85    0.009\n",
      "0.45    0.009\n",
      "0.86    0.008\n",
      "0.87    0.008\n",
      "0.93    0.007\n",
      "0.84    0.007\n",
      "0.9    0.006\n",
      "0.91    0.004\n",
      "0.89    0.004\n",
      "0.92    0.004\n",
      "0.97    0.004\n",
      "0.43    0.004\n",
      "0.88    0.004\n",
      "1.17    0.003\n",
      "0.4    0.003\n",
      "0.39    0.003\n",
      "0.94    0.002\n",
      "1.08    0.002\n",
      "1.36    0.002\n",
      "0.96    0.002\n",
      "1.06    0.002\n",
      "1.18    0.002\n",
      "0.42    0.002\n",
      "0.99    0.002\n",
      "1.95    0.001\n",
      "0.95    0.001\n",
      "1.1    0.001\n",
      "1.28    0.001\n",
      "0.98    0.001\n",
      "1.07    0.001\n",
      "0.37    0.001\n",
      "1.62    0.001\n",
      "1.16    0.001\n",
      "1.56    0.001\n",
      "1.05    0.001\n",
      "1.26    0.001\n",
      "1.98    0.001\n",
      "1.61    0.001\n",
      "1.31    0.001\n",
      "1.03    0.001\n",
      "1.59    0.001\n",
      "1.01    0.001\n",
      "1.22    0.001\n",
      "1.34    0.001\n",
      "1.13    0.001\n",
      "1.15    0.001\n",
      "2.0    0.001\n",
      "1.33    0.001\n",
      "1.2    0.001\n",
      "0.33    0.001\n",
      "1.11    0.001\n",
      "1.12    0.001\n",
      "1.14    0.001\n",
      "1.0    0.001\n",
      "\n",
      " alcohol \n",
      " 9.5    0.092\n",
      "9.4    0.066\n",
      "9.8    0.049\n",
      "9.2    0.049\n",
      "10.0    0.043\n",
      "10.5    0.042\n",
      "11.0    0.038\n",
      "9.6    0.037\n",
      "9.3    0.033\n",
      "9.9    0.03\n",
      "9.7    0.03\n",
      "10.1    0.029\n",
      "10.2    0.028\n",
      "10.4    0.027\n",
      "11.2    0.025\n",
      "10.9    0.025\n",
      "10.8    0.024\n",
      "10.3    0.022\n",
      "11.4    0.021\n",
      "9.0    0.019\n",
      "11.1    0.018\n",
      "10.7    0.018\n",
      "10.6    0.018\n",
      "11.8    0.018\n",
      "11.3    0.016\n",
      "9.1    0.016\n",
      "11.5    0.015\n",
      "11.7    0.014\n",
      "12.0    0.014\n",
      "12.5    0.013\n",
      "12.8    0.011\n",
      "11.9    0.011\n",
      "12.4    0.009\n",
      "12.3    0.008\n",
      "11.6    0.008\n",
      "12.2    0.007\n",
      "12.1    0.007\n",
      "12.9    0.006\n",
      "12.7    0.006\n",
      "14.0    0.004\n",
      "13.0    0.004\n",
      "12.6    0.004\n",
      "13.4    0.002\n",
      "13.3    0.002\n",
      "13.6    0.002\n",
      "8.4    0.001\n",
      "10.0333333333333    0.001\n",
      "9.55    0.001\n",
      "10.55    0.001\n",
      "8.7    0.001\n",
      "8.8    0.001\n",
      "8.5    0.001\n",
      "11.95    0.001\n",
      "9.95    0.001\n",
      "9.56666666666667    0.001\n",
      "14.9    0.001\n",
      "13.2    0.001\n",
      "13.1    0.001\n",
      "11.0666666666667    0.001\n",
      "9.23333333333333    0.001\n",
      "9.25    0.001\n",
      "9.05    0.001\n",
      "\n",
      " Y \n",
      " 1    0.532\n",
      "0    0.468\n"
     ]
    }
   ],
   "source": [
    "# считаем частоты по столбцам, учитывая пропуски\n",
    "for col in DF.columns:\n",
    " freq_col = DF[col].value_counts(dropna=False)\n",
    " str_freqs = np.around(freq_col / sum(freq_col), 3).astype(str)\n",
    " str_names = freq_col.index.values.astype(str)\n",
    " # для вывода в html\n",
    " # printmd('**' + col + '**</br>' +\n",
    " # '</br>'.join(list(map(concat_func_md, str_names, str_freqs))))\n",
    " # для сохранения в pdf\n",
    " print('\\n', col, '\\n',\n",
    " '\\n'.join(list(map(concat_func, str_names, str_freqs))))"
   ]
  },
  {
   "cell_type": "code",
   "execution_count": 20,
   "id": "0b529d5c-a0e3-43eb-a078-2071a53d0a5e",
   "metadata": {},
   "outputs": [
    {
     "data": {
      "text/plain": [
       "Y\n",
       "1    0.532\n",
       "0    0.468\n",
       "Name: count, dtype: object"
      ]
     },
     "execution_count": 20,
     "metadata": {},
     "output_type": "execute_result"
    }
   ],
   "source": [
    "str_freqs.astype(str)"
   ]
  },
  {
   "cell_type": "code",
   "execution_count": 22,
   "id": "d2351280-4817-4454-a1ca-97dfcedd2d37",
   "metadata": {},
   "outputs": [
    {
     "data": {
      "text/plain": [
       "fixed_acidity           0\n",
       "volatile_acidity        0\n",
       "residual_sugar          0\n",
       "chlorides               0\n",
       "free_sulfur_dioxide     0\n",
       "total_sulfur_dioxide    0\n",
       "pH                      0\n",
       "sulphates               0\n",
       "alcohol                 0\n",
       "Y                       0\n",
       "dtype: int64"
      ]
     },
     "execution_count": 22,
     "metadata": {},
     "output_type": "execute_result"
    }
   ],
   "source": [
    "# проверяем пропуски\n",
    "DF.isna().sum()\n",
    "# пропусков не обнаружено"
   ]
  },
  {
   "cell_type": "markdown",
   "id": "fb2cf76c-3db3-41ee-82c8-8896f479e443",
   "metadata": {},
   "source": [
    "# Модель дерева"
   ]
  },
  {
   "cell_type": "markdown",
   "id": "bdfd0d7e-4b54-4a3e-a1e3-3055b04cf090",
   "metadata": {},
   "source": [
    "Построим дерево классификации с обрезкой ветвей\r"
   ]
  },
  {
   "cell_type": "code",
   "execution_count": 26,
   "id": "1a5c884e-8069-454f-bc36-a9ad75be902a",
   "metadata": {},
   "outputs": [
    {
     "data": {
      "text/plain": [
       "224"
      ]
     },
     "execution_count": 26,
     "metadata": {},
     "output_type": "execute_result"
    }
   ],
   "source": [
    "# выращиваем дерево на всех объясняющих\n",
    "X = DF.drop(['Y'], axis=1)\n",
    "y = DF['Y']\n",
    "# классификатор\n",
    "cls_one_tree = DecisionTreeClassifier(criterion='entropy',\n",
    " random_state=my_seed)\n",
    "tree_full = cls_one_tree.fit(X, y)\n",
    "# выводим количество листьев (количество узлов)\n",
    "tree_full.get_n_leaves()"
   ]
  },
  {
   "cell_type": "code",
   "execution_count": 27,
   "id": "25e68b9a-1787-436f-ad00-c1c99763b6b5",
   "metadata": {},
   "outputs": [
    {
     "data": {
      "text/plain": [
       "17"
      ]
     },
     "execution_count": 27,
     "metadata": {},
     "output_type": "execute_result"
    }
   ],
   "source": [
    "# глубина дерева: количество узлов от корня до листа\n",
    "# в самой длинной ветви\n",
    "tree_full.get_depth()"
   ]
  },
  {
   "cell_type": "markdown",
   "id": "79ccfffc-342f-48ce-a1f8-c824c6d4e1e3",
   "metadata": {},
   "source": [
    "Очевидно, дерево получилось слишком большое для отображения в текстовом формате.\r\n",
    "Графическая визуализация тоже не поможет в данном случае. Посчитаем показатели точности\r\n",
    "с перекрёстной проверкой."
   ]
  },
  {
   "cell_type": "code",
   "execution_count": 28,
   "id": "0349074e-647f-450a-938d-bd050711a412",
   "metadata": {},
   "outputs": [
    {
     "name": "stdout",
     "output_type": "stream",
     "text": [
      "Acc с перекрёстной проверкой \n",
      "для модели one_tree : 0.731\n"
     ]
    }
   ],
   "source": [
    "# будем сохранять точность моделей в один массив:\n",
    "score = list()\n",
    "score_models = list()\n",
    "# считаем точность с перекрёстной проверкой, показатель Acc\n",
    "cv = cross_val_score(estimator=cls_one_tree, X=X, y=y, cv=5,\n",
    " scoring='accuracy')\n",
    "# записываем точность\n",
    "score.append(np.around(np.mean(cv), 3))\n",
    "score_models.append('one_tree')\n",
    "print('Acc с перекрёстной проверкой',\n",
    " '\\nдля модели', score_models[0], ':', score[0])"
   ]
  },
  {
   "cell_type": "markdown",
   "id": "db312172-2259-4321-b20c-6f04fe36356b",
   "metadata": {},
   "source": [
    "## Дерево с обрезкой ветвей"
   ]
  },
  {
   "cell_type": "markdown",
   "id": "cfd3f62c-72eb-4983-82d1-c94e3e839d38",
   "metadata": {},
   "source": [
    "Подберём оптимальное количество ветвей, которое максимизирует ACC, для экономии\r\n",
    "времени рассчитанный методом проверочной выборки."
   ]
  },
  {
   "cell_type": "code",
   "execution_count": 33,
   "id": "4de0bac8-0410-4847-a94b-75ee259eaf44",
   "metadata": {},
   "outputs": [
    {
     "name": "stdout",
     "output_type": "stream",
     "text": [
      "Всего значений alpha: 130\n",
      "Энтропия листьев для первых 4 значений alpha: [0.00147167 0.00294334 0.00441501 0.00588668]\n"
     ]
    }
   ],
   "source": [
    "# рассчитываем параметры alpha для эффективных вариантов обрезки ветвей\n",
    "path = cls_one_tree.cost_complexity_pruning_path(X, y)\n",
    "ccp_alphas, impurities = path.ccp_alphas, path.impurities\n",
    "print('Всего значений alpha:', len(ccp_alphas))\n",
    "print('Энтропия листьев для первых 4 значений alpha:', impurities[1:5])"
   ]
  },
  {
   "cell_type": "code",
   "execution_count": 34,
   "id": "13ae2ad8-1150-43ba-aa7b-6f5673251e36",
   "metadata": {},
   "outputs": [
    {
     "data": {
      "image/png": "[encoded data removed]",
      "text/plain": [
       "<Figure size 640x480 with 1 Axes>"
      ]
     },
     "metadata": {},
     "output_type": "display_data"
    }
   ],
   "source": [
    "# изображаем на графике\n",
    "plt.plot(ccp_alphas[:-1], impurities[:-1], marker='o', drawstyle=\"steps-post\")\n",
    "plt.xlabel(\"значение гиперпараметра alpha\")\n",
    "plt.ylabel(\"общая энтропия листьев дерева\")\n",
    "plt.title(\"Изменение показателя нечистоты узлов с ростом alpha\")\n",
    "plt.show()"
   ]
  },
  {
   "cell_type": "code",
   "execution_count": 37,
   "id": "bcbab78e-338d-48af-8706-74f68c983670",
   "metadata": {},
   "outputs": [
    {
     "name": "stdout",
     "output_type": "stream",
     "text": [
      "Расчёты по обрезке дерева заняли 0.54 секунд\n"
     ]
    }
   ],
   "source": [
    "# обучающая и тестовая выборки, чтобы сэкономить время\n",
    "X_train, X_test, y_train, y_test = train_test_split(X, y,\n",
    " random_state=my_seed)\n",
    "# модели\n",
    "clfs = list()\n",
    "# таймер\n",
    "tic = time.perf_counter()\n",
    "# цикл по значениям alpha\n",
    "for ccp_alpha in ccp_alphas:\n",
    " clf = DecisionTreeClassifier(random_state=my_seed, ccp_alpha=ccp_alpha)\n",
    " clf.fit(X_train, y_train)\n",
    " clfs.append(clf)\n",
    "# таймер\n",
    "toc = time.perf_counter()\n",
    "print(f\"Расчёты по обрезке дерева заняли {toc - tic:0.2f} секунд\")"
   ]
  },
  {
   "cell_type": "code",
   "execution_count": 38,
   "id": "01e4b090-5ab6-4f36-b993-79aaa4015ba1",
   "metadata": {},
   "outputs": [
    {
     "name": "stdout",
     "output_type": "stream",
     "text": [
      "Расчёты показателей точности заняли 0.20 секунд\n"
     ]
    }
   ],
   "source": [
    "# извлекаем характеристики глубины и точности\n",
    "# таймер\n",
    "tic = time.perf_counter()\n",
    "node_counts = [clf.tree_.node_count for clf in clfs]\n",
    "train_scores = [clf.score(X_train, y_train) for clf in clfs]\n",
    "test_scores = [clf.score(X_test, y_test) for clf in clfs]\n",
    "# таймер\n",
    "toc = time.perf_counter()\n",
    "print(f\"Расчёты показателей точности заняли {toc - tic:0.2f} секунд\")"
   ]
  },
  {
   "cell_type": "code",
   "execution_count": 39,
   "id": "2f73a1ba-d708-4996-abc1-d66fc4f69490",
   "metadata": {},
   "outputs": [
    {
     "data": {
      "image/png": "[encoded data removed]",
      "text/plain": [
       "<Figure size 640x480 with 2 Axes>"
      ]
     },
     "metadata": {},
     "output_type": "display_data"
    }
   ],
   "source": [
    "# изображаем на графике\n",
    "fig, ax = plt.subplots(1, 2)\n",
    "# график глубины дерева\n",
    "ax[0].plot(ccp_alphas, node_counts, marker=',', drawstyle=\"steps-post\")\n",
    "ax[0].set_xlabel(\"значение гиперпараметра alpha\")\n",
    "ax[0].set_ylabel(\"количество узлов\")\n",
    "ax[0].set_title(\"Сложность модели vs alpha\")\n",
    "# график точности\n",
    "ax[1].plot(ccp_alphas, train_scores, marker=',', label='train',\n",
    "           drawstyle=\"steps-post\")\n",
    "ax[1].plot(ccp_alphas, test_scores, marker=',', label='test',\n",
    "           drawstyle=\"steps-post\")\n",
    "ax[1].set_xlabel(\"значение гиперпараметра alpha\")\n",
    "ax[1].set_ylabel(\"Acc\")\n",
    "ax[1].set_title(\"Точность модели vs alpha\")\n",
    "fig.tight_layout()"
   ]
  },
  {
   "cell_type": "markdown",
   "id": "58a28c3b-a14a-44b9-81b8-1d69a9ba6cba",
   "metadata": {},
   "source": [
    "Находим оптимальный размер дерева по максимуму на тестовой выборке."
   ]
  },
  {
   "cell_type": "code",
   "execution_count": 40,
   "id": "bb33e5ff-48cc-4ca1-90c1-61f5c88944a5",
   "metadata": {},
   "outputs": [
    {
     "name": "stdout",
     "output_type": "stream",
     "text": [
      "Оптимальное количество узлов: 97 \n",
      "соответствующая Acc на тестовой: 0.726 \n",
      "\n",
      "Acc с перекрёстной проверкой \n",
      "для модели pruned_tree : 0.73\n"
     ]
    }
   ],
   "source": [
    "# оптимальное количество узлов\n",
    "opt_nodes_num = node_counts[test_scores.index(max(test_scores))]\n",
    "# считаем точность с перекрёстной проверкой, показатель Acc\n",
    "cv = cross_val_score(estimator=clfs[opt_nodes_num], X=X, y=y, cv=5,\n",
    " scoring='accuracy')\n",
    "# записываем точность\n",
    "score.append(np.around(np.mean(cv), 3))\n",
    "score_models.append('pruned_tree')\n",
    "print('Оптимальное количество узлов:', opt_nodes_num,\n",
    "      '\\nсоответствующая Acc на тестовой:', np.around(max(test_scores), 3),\n",
    "      '\\n\\nAcc с перекрёстной проверкой',\n",
    "      '\\nдля модели', score_models[1], ':', score[1])"
   ]
  },
  {
   "cell_type": "markdown",
   "id": "4573a7a6-cf30-48ac-b94c-0d00d6c5411a",
   "metadata": {},
   "source": [
    "Посмотрим на характеристики глубины и сложности построенного дерева с обрезкой ветвей"
   ]
  },
  {
   "cell_type": "code",
   "execution_count": 41,
   "id": "80685c40-0bc9-4210-9948-b11ff6e0f57e",
   "metadata": {},
   "outputs": [
    {
     "data": {
      "text/plain": [
       "22"
      ]
     },
     "execution_count": 41,
     "metadata": {},
     "output_type": "execute_result"
    }
   ],
   "source": [
    "# выводим количество листьев (количество узлов)\n",
    "clfs[opt_nodes_num].get_n_leaves()"
   ]
  },
  {
   "cell_type": "code",
   "execution_count": 42,
   "id": "3b2bdd33-7f83-4ce1-9bf6-5b2e1cf4cf3c",
   "metadata": {},
   "outputs": [
    {
     "data": {
      "text/plain": [
       "8"
      ]
     },
     "execution_count": 42,
     "metadata": {},
     "output_type": "execute_result"
    }
   ],
   "source": [
    "# глубина дерева: количество узлов от корня до листа\n",
    "# в самой длинной ветви\n",
    "clfs[opt_nodes_num].get_depth()"
   ]
  },
  {
   "cell_type": "markdown",
   "id": "b81800bf-c672-4704-9e04-e6baebd9a368",
   "metadata": {},
   "source": [
    "## Визуализируем дерево"
   ]
  },
  {
   "cell_type": "code",
   "execution_count": 43,
   "id": "91f5fbba-865f-4398-b279-95970f250db4",
   "metadata": {},
   "outputs": [
    {
     "data": {
      "text/plain": [
       "[19, 19, 17, 15, 13, 11, 11, 11, 11, 11, 9, 7, 5, 3, 3, 3, 3, 1]"
      ]
     },
     "execution_count": 43,
     "metadata": {},
     "output_type": "execute_result"
    }
   ],
   "source": [
    "# находим деревья с количеством листьев меньше 20\n",
    "[i for i in node_counts if i < 20]"
   ]
  },
  {
   "cell_type": "code",
   "execution_count": 44,
   "id": "a6b42d12-5580-4ee7-9726-5b2969781b63",
   "metadata": {},
   "outputs": [
    {
     "name": "stdout",
     "output_type": "stream",
     "text": [
      "Количество узлов: 11 \n",
      "Точность дерева на тестовой: 0.712\n"
     ]
    },
    {
     "data": {
      "image/png": "[encoded data removed]",
      "text/plain": [
       "<Figure size 2500x2000 with 1 Axes>"
      ]
     },
     "metadata": {},
     "output_type": "display_data"
    }
   ],
   "source": [
    "# визуализация на схеме\n",
    "nodes_num = 11\n",
    "print('Количество узлов:', nodes_num,\n",
    " '\\nТочность дерева на тестовой:',\n",
    " np.around(test_scores[node_counts.index(nodes_num)], 3))\n",
    "fig = plt.figure(figsize=(25,20))\n",
    "_ = plot_tree(clfs[node_counts.index(nodes_num)], filled=True,\n",
    " feature_names=X.columns)"
   ]
  },
  {
   "cell_type": "code",
   "execution_count": 45,
   "id": "c2ab9333-1bd6-4ce4-88fa-65b1326b9f7c",
   "metadata": {},
   "outputs": [
    {
     "name": "stdout",
     "output_type": "stream",
     "text": [
      "|--- alcohol <= 9.95\n",
      "|   |--- fixed_acidity <= 10.05\n",
      "|   |   |--- class: 0\n",
      "|   |--- fixed_acidity >  10.05\n",
      "|   |   |--- class: 1\n",
      "|--- alcohol >  9.95\n",
      "|   |--- sulphates <= 0.58\n",
      "|   |   |--- volatile_acidity <= 0.38\n",
      "|   |   |   |--- class: 1\n",
      "|   |   |--- volatile_acidity >  0.38\n",
      "|   |   |   |--- class: 0\n",
      "|   |--- sulphates >  0.58\n",
      "|   |   |--- total_sulfur_dioxide <= 86.00\n",
      "|   |   |   |--- class: 1\n",
      "|   |   |--- total_sulfur_dioxide >  86.00\n",
      "|   |   |   |--- class: 0\n",
      "\n"
     ]
    }
   ],
   "source": [
    "# визуализируем дерево в виде текстовой схемы\n",
    "viz = export_text(clfs[node_counts.index(nodes_num)],\n",
    " feature_names=list(X.columns))\n",
    "print(viz)"
   ]
  },
  {
   "cell_type": "markdown",
   "id": "491ec950-7669-48ba-95dc-032a00a7f8bf",
   "metadata": {},
   "source": [
    "## Бэггинг"
   ]
  },
  {
   "cell_type": "markdown",
   "id": "fd754de1-ffcd-44ee-b8df-a6b45f8f4f6b",
   "metadata": {},
   "source": [
    "Модель бэггинга использует бутстреп, чтобы вырастить B деревьев на выборках с повторами\r\n",
    "из обучающих данных. Построим модель дл B = 50я деревьев.\r"
   ]
  },
  {
   "cell_type": "code",
   "execution_count": 46,
   "id": "58077b5d-bbc1-41e0-95af-9dda6de8b6cc",
   "metadata": {},
   "outputs": [
    {
     "name": "stderr",
     "output_type": "stream",
     "text": [
      "C:\\Users\\Mikhail\\anaconda3\\Lib\\site-packages\\sklearn\\ensemble\\_base.py:166: FutureWarning: `base_estimator` was renamed to `estimator` in version 1.2 and will be removed in 1.4.\n",
      "  warnings.warn(\n",
      "C:\\Users\\Mikhail\\anaconda3\\Lib\\site-packages\\sklearn\\ensemble\\_base.py:166: FutureWarning: `base_estimator` was renamed to `estimator` in version 1.2 and will be removed in 1.4.\n",
      "  warnings.warn(\n",
      "C:\\Users\\Mikhail\\anaconda3\\Lib\\site-packages\\sklearn\\ensemble\\_base.py:166: FutureWarning: `base_estimator` was renamed to `estimator` in version 1.2 and will be removed in 1.4.\n",
      "  warnings.warn(\n",
      "C:\\Users\\Mikhail\\anaconda3\\Lib\\site-packages\\sklearn\\ensemble\\_base.py:166: FutureWarning: `base_estimator` was renamed to `estimator` in version 1.2 and will be removed in 1.4.\n",
      "  warnings.warn(\n",
      "C:\\Users\\Mikhail\\anaconda3\\Lib\\site-packages\\sklearn\\ensemble\\_base.py:166: FutureWarning: `base_estimator` was renamed to `estimator` in version 1.2 and will be removed in 1.4.\n",
      "  warnings.warn(\n"
     ]
    },
    {
     "name": "stdout",
     "output_type": "stream",
     "text": [
      "Обучение модели с бэггингом на 50 деревьях и перекрёстной проверкой заняло 1.18 секунд\n"
     ]
    }
   ],
   "source": [
    "# параметр B: количество деревьев\n",
    "num_trees = 50\n",
    "# разбиения для перекрёстной проверки\n",
    "kfold = KFold(n_splits=5, random_state=my_seed, shuffle=True)\n",
    "# таймер\n",
    "tic = time.perf_counter()\n",
    "# модель с бэггингом\n",
    "tree_bag = BaggingClassifier(base_estimator=cls_one_tree,\n",
    " n_estimators=num_trees,\n",
    " random_state=my_seed)\n",
    "cv = cross_val_score(tree_bag, X, y, cv=kfold)\n",
    "# таймер\n",
    "toc = time.perf_counter()\n",
    "print(f\"Обучение модели с бэггингом на {num_trees:0.0f} деревьях\",\n",
    " \" и перекрёстной проверкой \",\n",
    " f\"заняло {toc - tic:0.2f} секунд\", sep='')\n"
   ]
  },
  {
   "cell_type": "code",
   "execution_count": 47,
   "id": "c70d5b3f-41d5-4a07-87e3-c327ddc3e717",
   "metadata": {},
   "outputs": [
    {
     "data": {
      "text/plain": [
       "0.79"
      ]
     },
     "execution_count": 47,
     "metadata": {},
     "output_type": "execute_result"
    }
   ],
   "source": [
    "# точность\n",
    "np.around(np.mean(cv), 3)"
   ]
  },
  {
   "cell_type": "markdown",
   "id": "c53aa010-eed5-4449-8c65-c804b90813c5",
   "metadata": {},
   "source": [
    "Итак, мы построили модель, выбрав параметр B случайным образом. Воспользуемся\r\n",
    "функцией GridSearchCV() , чтобы перебрать 5 вариантов значений для параметраB .\r"
   ]
  },
  {
   "cell_type": "code",
   "execution_count": 48,
   "id": "caa5142a-0354-4ef7-a32e-37b4d1cb5456",
   "metadata": {},
   "outputs": [
    {
     "name": "stdout",
     "output_type": "stream",
     "text": [
      "Сеточный поиск занял 3.45 секунд\n"
     ]
    }
   ],
   "source": [
    "# настроим параметры бэггинга с помощью сеточного поиска\n",
    "param_grid = {'n_estimators' : [10, 20, 30, 40, 50]}\n",
    "# таймер\n",
    "tic = time.perf_counter()\n",
    "clf = GridSearchCV(BaggingClassifier(DecisionTreeClassifier()),\n",
    " param_grid, scoring='accuracy', cv=kfold)\n",
    "tree_bag = clf.fit(X, y)\n",
    "# таймер\n",
    "toc = time.perf_counter()\n",
    "print(f\"Сеточный поиск занял {toc - tic:0.2f} секунд\", sep='')"
   ]
  },
  {
   "cell_type": "code",
   "execution_count": 49,
   "id": "07cf977b-8709-4d73-ac2f-eeb82fb94eb0",
   "metadata": {},
   "outputs": [
    {
     "data": {
      "text/plain": [
       "0.798"
      ]
     },
     "execution_count": 49,
     "metadata": {},
     "output_type": "execute_result"
    }
   ],
   "source": [
    "# точность лучшей модели\n",
    "np.around(tree_bag.best_score_, 3)"
   ]
  },
  {
   "cell_type": "code",
   "execution_count": 50,
   "id": "dac20d54-254a-4765-a491-87b23784d954",
   "metadata": {},
   "outputs": [
    {
     "data": {
      "text/plain": [
       "40"
      ]
     },
     "execution_count": 50,
     "metadata": {},
     "output_type": "execute_result"
    }
   ],
   "source": [
    "# количество деревьев у лучшей модели\n",
    "tree_bag.best_estimator_.get_params()['n_estimators']"
   ]
  },
  {
   "cell_type": "markdown",
   "id": "fa842dad-6281-447d-b5b2-4beb0fdbe08c",
   "metadata": {},
   "source": [
    "Таким образом, перебрав несколько вариантов для B, мы немного улучшили первоначальную\n",
    "точность модели бэггинга."
   ]
  },
  {
   "cell_type": "code",
   "execution_count": 51,
   "id": "eb4005a8-a12d-4c92-bb1d-1b85cf2e3d60",
   "metadata": {},
   "outputs": [
    {
     "name": "stdout",
     "output_type": "stream",
     "text": [
      "Acc с перекрёстной проверкой \n",
      "для модели bagging_GS : 0.798\n"
     ]
    }
   ],
   "source": [
    "\n",
    "# записываем точность\n",
    "score.append(np.around(tree_bag.best_score_, 3))\n",
    "score_models.append('bagging_GS')\n",
    "print('Acc с перекрёстной проверкой',\n",
    " '\\nдля модели', score_models[2], ':', score[2])"
   ]
  },
  {
   "cell_type": "markdown",
   "id": "2c233805-08bf-4252-bc7c-b1d89cc2bd48",
   "metadata": {},
   "source": [
    "По итогу, наилучшей моделью является модель Бэггинга, с точностью, равной 0,798."
   ]
  },
  {
   "cell_type": "markdown",
   "id": "9597795f-cf5a-4ca8-84fd-f76fc33e446f",
   "metadata": {},
   "source": [
    "# Прогноз на отложенные наблюдения по лучшей моделии"
   ]
  },
  {
   "cell_type": "code",
   "execution_count": 52,
   "id": "fe3f5036-8b38-4481-96a5-ea65d346d747",
   "metadata": {},
   "outputs": [
    {
     "data": {
      "text/html": [
       "<div>\n",
       "<style scoped>\n",
       "    .dataframe tbody tr th:only-of-type {\n",
       "        vertical-align: middle;\n",
       "    }\n",
       "\n",
       "    .dataframe tbody tr th {\n",
       "        vertical-align: top;\n",
       "    }\n",
       "\n",
       "    .dataframe thead th {\n",
       "        text-align: right;\n",
       "    }\n",
       "</style>\n",
       "<table border=\"1\" class=\"dataframe\">\n",
       "  <thead>\n",
       "    <tr style=\"text-align: right;\">\n",
       "      <th></th>\n",
       "      <th>Модель</th>\n",
       "      <th>Acc</th>\n",
       "    </tr>\n",
       "  </thead>\n",
       "  <tbody>\n",
       "    <tr>\n",
       "      <th>0</th>\n",
       "      <td>one_tree</td>\n",
       "      <td>0.731</td>\n",
       "    </tr>\n",
       "    <tr>\n",
       "      <th>1</th>\n",
       "      <td>pruned_tree</td>\n",
       "      <td>0.730</td>\n",
       "    </tr>\n",
       "    <tr>\n",
       "      <th>2</th>\n",
       "      <td>bagging_GS</td>\n",
       "      <td>0.798</td>\n",
       "    </tr>\n",
       "  </tbody>\n",
       "</table>\n",
       "</div>"
      ],
      "text/plain": [
       "        Модель    Acc\n",
       "0     one_tree  0.731\n",
       "1  pruned_tree  0.730\n",
       "2   bagging_GS  0.798"
      ]
     },
     "execution_count": 52,
     "metadata": {},
     "output_type": "execute_result"
    }
   ],
   "source": [
    "# сводка по точности моделей\n",
    "pd.DataFrame({'Модель' : score_models, 'Acc' : score})"
   ]
  },
  {
   "cell_type": "markdown",
   "id": "e24be846-7e8a-41ed-a0a2-88352b4f2fc9",
   "metadata": {},
   "source": [
    "Все модели показывают среднюю точность по показателю ACC, при этом самой точной\r\n",
    "оказывается модельБэггингаа. Сделаем прогноз на отложенные наблюдения.\r"
   ]
  },
  {
   "cell_type": "code",
   "execution_count": 57,
   "id": "60b6beea-5240-4e40-86e3-8f11a6b909c7",
   "metadata": {},
   "outputs": [
    {
     "name": "stdout",
     "output_type": "stream",
     "text": [
      "              precision    recall  f1-score   support\n",
      "\n",
      "           0       0.80      0.79      0.79       108\n",
      "           1       0.83      0.84      0.83       132\n",
      "\n",
      "    accuracy                           0.82       240\n",
      "   macro avg       0.82      0.81      0.81       240\n",
      "weighted avg       0.82      0.82      0.82       240\n",
      "\n"
     ]
    }
   ],
   "source": [
    "random_forest = clf.fit(X, y)\n",
    "# данные для прогноза\n",
    "X_pred = DF_predict.drop(['Y'], axis=1)\n",
    "# строим прогноз\n",
    "y_hat = random_forest.best_estimator_.predict(X_pred)\n",
    "# характеристики точности\n",
    "print(classification_report(DF_predict['Y'], y_hat))"
   ]
  },
  {
   "cell_type": "markdown",
   "id": "1ba618b4-11bb-4bb4-a140-3d284dd2fd2d",
   "metadata": {},
   "source": [
    "# Сравним точность моделей из упражнения 4"
   ]
  },
  {
   "cell_type": "markdown",
   "id": "db47c87e-cbb7-4c11-b8af-46b386a247c5",
   "metadata": {},
   "source": [
    "Модели в текущем задании показывают среднюю точность, находящуюся в промежутках от [0,79;0,84]. В отличии от моделей из упржанения 4, показывающих точность ACC, равную 1. Это говорит о том, что модели из упражнения 4 являются более точными"
   ]
  },
  {
   "cell_type": "code",
   "execution_count": null,
   "id": "0045aeb1-418f-452e-a785-6d2ee2a5186c",
   "metadata": {},
   "outputs": [],
   "source": []
  }
 ],
 "metadata": {
  "kernelspec": {
   "display_name": "Python 3 (ipykernel)",
   "language": "python",
   "name": "python3"
  },
  "language_info": {
   "codemirror_mode": {
    "name": "ipython",
    "version": 3
   },
   "file_extension": ".py",
   "mimetype": "text/x-python",
   "name": "python",
   "nbconvert_exporter": "python",
   "pygments_lexer": "ipython3",
   "version": "3.11.7"
  }
 },
 "nbformat": 4,
 "nbformat_minor": 5
}
